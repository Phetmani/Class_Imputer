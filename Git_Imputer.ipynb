{
 "cells": [
  {
   "cell_type": "code",
   "execution_count": null,
   "metadata": {},
   "outputs": [],
   "source": [
    "class Imputer () :\n",
    "     def __init__(self,data_list) :\n",
    "          self.list=data_list\n",
    "\n",
    "     def avg(self) :\n",
    "      sum_values = 0\n",
    "      nb_values = 0\n",
    "      \n",
    "      for elt in self.list : \n",
    "        if elt != None :\n",
    "           sum_values+=elt      \n",
    "           nb_values+=1         \n",
    "\n",
    "        replace=sum_values/nb_values \n",
    "\n",
    "\n",
    "        for i in range(len(self.list)) :      \n",
    "           if self.list[i]==None :\n",
    "              self.list[i] = replace\n",
    "\n",
    "              return self.list \n",
    "           \n",
    "     def median(self) :       \n",
    "\n",
    "      new_list=[]                      \n",
    "      for elt in self.list :\n",
    "        if elt != None :\n",
    "            new_list.append(elt)\n",
    "      print(new_list) \n",
    "\n",
    "      new_list.sort()       \n",
    "      print(new_list)\n",
    "\n",
    "      if len(new_list)%2==0 :\n",
    "         med = (new_list[(len(new_list)//2-1)] + new_list[len(new_list)//2])/2\n",
    "         print(med)\n",
    "      else : \n",
    "         med = new_list[(len(new_list)-1)//2]\n",
    "         print(med)\n",
    "\n",
    "      for i in range(len(self.list)) : \n",
    "         if self.list[i]==None :\n",
    "            self.list[i]=med\n",
    "      \n",
    "      return self.list "
   ]
  }
 ],
 "metadata": {
  "language_info": {
   "name": "python"
  },
  "orig_nbformat": 4
 },
 "nbformat": 4,
 "nbformat_minor": 2
}
